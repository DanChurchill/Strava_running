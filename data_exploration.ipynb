{
 "cells": [
  {
   "cell_type": "code",
   "execution_count": 3,
   "id": "2acfbf01",
   "metadata": {},
   "outputs": [],
   "source": [
    "import numpy as np\n",
    "import pandas as pd\n",
    "import datetime\n",
    "from skimpy import skim\n",
    "\n"
   ]
  },
  {
   "cell_type": "code",
   "execution_count": null,
   "id": "53f65059",
   "metadata": {},
   "outputs": [],
   "source": [
    "pd.read_csv()\n"
   ]
  },
  {
   "cell_type": "code",
   "execution_count": 12,
   "id": "5eb3a89d",
   "metadata": {},
   "outputs": [
    {
     "data": {
      "text/html": [
       "<div>\n",
       "<style scoped>\n",
       "    .dataframe tbody tr th:only-of-type {\n",
       "        vertical-align: middle;\n",
       "    }\n",
       "\n",
       "    .dataframe tbody tr th {\n",
       "        vertical-align: top;\n",
       "    }\n",
       "\n",
       "    .dataframe thead th {\n",
       "        text-align: right;\n",
       "    }\n",
       "</style>\n",
       "<table border=\"1\" class=\"dataframe\">\n",
       "  <thead>\n",
       "    <tr style=\"text-align: right;\">\n",
       "      <th></th>\n",
       "      <th>Activity ID</th>\n",
       "      <th>Activity Date</th>\n",
       "      <th>Activity Name</th>\n",
       "      <th>Activity Type</th>\n",
       "      <th>Distance</th>\n",
       "      <th>Moving Time</th>\n",
       "      <th>Average Heart Rate</th>\n",
       "      <th>Calories</th>\n",
       "      <th>Average Temperature</th>\n",
       "    </tr>\n",
       "  </thead>\n",
       "  <tbody>\n",
       "    <tr>\n",
       "      <th>0</th>\n",
       "      <td>1927719</td>\n",
       "      <td>Sep 28, 2011, 4:37:41 AM</td>\n",
       "      <td>09/28/2011 Istres, Provence-Alpes-Côte d'Azur,...</td>\n",
       "      <td>Run</td>\n",
       "      <td>3.54</td>\n",
       "      <td>1253.0</td>\n",
       "      <td>NaN</td>\n",
       "      <td>371.595459</td>\n",
       "      <td>NaN</td>\n",
       "    </tr>\n",
       "    <tr>\n",
       "      <th>1</th>\n",
       "      <td>1927721</td>\n",
       "      <td>Sep 30, 2011, 4:35:32 AM</td>\n",
       "      <td>09/30/2011 Istres, Provence-Alpes-Côte d'Azur,...</td>\n",
       "      <td>Run</td>\n",
       "      <td>2.44</td>\n",
       "      <td>746.0</td>\n",
       "      <td>NaN</td>\n",
       "      <td>259.392212</td>\n",
       "      <td>NaN</td>\n",
       "    </tr>\n",
       "    <tr>\n",
       "      <th>2</th>\n",
       "      <td>1927722</td>\n",
       "      <td>Sep 26, 2011, 4:34:33 AM</td>\n",
       "      <td>09/26/2011 Istres, Provence-Alpes-Côte d'Azur,...</td>\n",
       "      <td>Run</td>\n",
       "      <td>3.52</td>\n",
       "      <td>1252.0</td>\n",
       "      <td>NaN</td>\n",
       "      <td>373.191833</td>\n",
       "      <td>NaN</td>\n",
       "    </tr>\n",
       "    <tr>\n",
       "      <th>3</th>\n",
       "      <td>1927723</td>\n",
       "      <td>Oct 10, 2011, 6:42:14 AM</td>\n",
       "      <td>10/10/2011 Cambridge, Cambridgeshire, United K...</td>\n",
       "      <td>Run</td>\n",
       "      <td>6.70</td>\n",
       "      <td>2222.0</td>\n",
       "      <td>NaN</td>\n",
       "      <td>693.651062</td>\n",
       "      <td>NaN</td>\n",
       "    </tr>\n",
       "    <tr>\n",
       "      <th>4</th>\n",
       "      <td>1927724</td>\n",
       "      <td>Sep 23, 2011, 4:35:12 AM</td>\n",
       "      <td>09/23/2011 Istres, Provence-Alpes-Côte d'Azur,...</td>\n",
       "      <td>Run</td>\n",
       "      <td>3.63</td>\n",
       "      <td>1334.0</td>\n",
       "      <td>NaN</td>\n",
       "      <td>379.204193</td>\n",
       "      <td>NaN</td>\n",
       "    </tr>\n",
       "  </tbody>\n",
       "</table>\n",
       "</div>"
      ],
      "text/plain": [
       "   Activity ID             Activity Date  \\\n",
       "0      1927719  Sep 28, 2011, 4:37:41 AM   \n",
       "1      1927721  Sep 30, 2011, 4:35:32 AM   \n",
       "2      1927722  Sep 26, 2011, 4:34:33 AM   \n",
       "3      1927723  Oct 10, 2011, 6:42:14 AM   \n",
       "4      1927724  Sep 23, 2011, 4:35:12 AM   \n",
       "\n",
       "                                       Activity Name Activity Type  Distance  \\\n",
       "0  09/28/2011 Istres, Provence-Alpes-Côte d'Azur,...           Run      3.54   \n",
       "1  09/30/2011 Istres, Provence-Alpes-Côte d'Azur,...           Run      2.44   \n",
       "2  09/26/2011 Istres, Provence-Alpes-Côte d'Azur,...           Run      3.52   \n",
       "3  10/10/2011 Cambridge, Cambridgeshire, United K...           Run      6.70   \n",
       "4  09/23/2011 Istres, Provence-Alpes-Côte d'Azur,...           Run      3.63   \n",
       "\n",
       "   Moving Time  Average Heart Rate    Calories  Average Temperature  \n",
       "0       1253.0                 NaN  371.595459                  NaN  \n",
       "1        746.0                 NaN  259.392212                  NaN  \n",
       "2       1252.0                 NaN  373.191833                  NaN  \n",
       "3       2222.0                 NaN  693.651062                  NaN  \n",
       "4       1334.0                 NaN  379.204193                  NaN  "
      ]
     },
     "execution_count": 12,
     "metadata": {},
     "output_type": "execute_result"
    }
   ],
   "source": [
    "df.head()"
   ]
  },
  {
   "cell_type": "code",
   "execution_count": 13,
   "id": "54ec1020",
   "metadata": {},
   "outputs": [],
   "source": [
    "# perform cleanup functions such as column names and data conversions\n",
    "# not necessary if using a local copy that has already been cleaned\n",
    "df = strava_prepare.typ_clean(df)"
   ]
  },
  {
   "cell_type": "code",
   "execution_count": 14,
   "id": "f4e3789b",
   "metadata": {},
   "outputs": [
    {
     "data": {
      "text/html": [
       "<div>\n",
       "<style scoped>\n",
       "    .dataframe tbody tr th:only-of-type {\n",
       "        vertical-align: middle;\n",
       "    }\n",
       "\n",
       "    .dataframe tbody tr th {\n",
       "        vertical-align: top;\n",
       "    }\n",
       "\n",
       "    .dataframe thead th {\n",
       "        text-align: right;\n",
       "    }\n",
       "</style>\n",
       "<table border=\"1\" class=\"dataframe\">\n",
       "  <thead>\n",
       "    <tr style=\"text-align: right;\">\n",
       "      <th></th>\n",
       "      <th>activity_id</th>\n",
       "      <th>activity_date</th>\n",
       "      <th>activity_name</th>\n",
       "      <th>distance</th>\n",
       "      <th>moving_time</th>\n",
       "      <th>average_heart_rate</th>\n",
       "      <th>calories</th>\n",
       "      <th>average_temperature</th>\n",
       "    </tr>\n",
       "  </thead>\n",
       "  <tbody>\n",
       "    <tr>\n",
       "      <th>0</th>\n",
       "      <td>1927719</td>\n",
       "      <td>Sep 28, 2011, 4:37:41 AM</td>\n",
       "      <td>09/28/2011 Istres, Provence-Alpes-Côte d'Azur,...</td>\n",
       "      <td>2.20</td>\n",
       "      <td>0:20:53</td>\n",
       "      <td>NaN</td>\n",
       "      <td>371.595459</td>\n",
       "      <td>NaN</td>\n",
       "    </tr>\n",
       "    <tr>\n",
       "      <th>1</th>\n",
       "      <td>1927721</td>\n",
       "      <td>Sep 30, 2011, 4:35:32 AM</td>\n",
       "      <td>09/30/2011 Istres, Provence-Alpes-Côte d'Azur,...</td>\n",
       "      <td>1.52</td>\n",
       "      <td>0:12:26</td>\n",
       "      <td>NaN</td>\n",
       "      <td>259.392212</td>\n",
       "      <td>NaN</td>\n",
       "    </tr>\n",
       "    <tr>\n",
       "      <th>2</th>\n",
       "      <td>1927722</td>\n",
       "      <td>Sep 26, 2011, 4:34:33 AM</td>\n",
       "      <td>09/26/2011 Istres, Provence-Alpes-Côte d'Azur,...</td>\n",
       "      <td>2.19</td>\n",
       "      <td>0:20:52</td>\n",
       "      <td>NaN</td>\n",
       "      <td>373.191833</td>\n",
       "      <td>NaN</td>\n",
       "    </tr>\n",
       "    <tr>\n",
       "      <th>3</th>\n",
       "      <td>1927723</td>\n",
       "      <td>Oct 10, 2011, 6:42:14 AM</td>\n",
       "      <td>10/10/2011 Cambridge, Cambridgeshire, United K...</td>\n",
       "      <td>4.16</td>\n",
       "      <td>0:37:02</td>\n",
       "      <td>NaN</td>\n",
       "      <td>693.651062</td>\n",
       "      <td>NaN</td>\n",
       "    </tr>\n",
       "    <tr>\n",
       "      <th>4</th>\n",
       "      <td>1927724</td>\n",
       "      <td>Sep 23, 2011, 4:35:12 AM</td>\n",
       "      <td>09/23/2011 Istres, Provence-Alpes-Côte d'Azur,...</td>\n",
       "      <td>2.26</td>\n",
       "      <td>0:22:14</td>\n",
       "      <td>NaN</td>\n",
       "      <td>379.204193</td>\n",
       "      <td>NaN</td>\n",
       "    </tr>\n",
       "  </tbody>\n",
       "</table>\n",
       "</div>"
      ],
      "text/plain": [
       "   activity_id             activity_date  \\\n",
       "0      1927719  Sep 28, 2011, 4:37:41 AM   \n",
       "1      1927721  Sep 30, 2011, 4:35:32 AM   \n",
       "2      1927722  Sep 26, 2011, 4:34:33 AM   \n",
       "3      1927723  Oct 10, 2011, 6:42:14 AM   \n",
       "4      1927724  Sep 23, 2011, 4:35:12 AM   \n",
       "\n",
       "                                       activity_name  distance moving_time  \\\n",
       "0  09/28/2011 Istres, Provence-Alpes-Côte d'Azur,...      2.20     0:20:53   \n",
       "1  09/30/2011 Istres, Provence-Alpes-Côte d'Azur,...      1.52     0:12:26   \n",
       "2  09/26/2011 Istres, Provence-Alpes-Côte d'Azur,...      2.19     0:20:52   \n",
       "3  10/10/2011 Cambridge, Cambridgeshire, United K...      4.16     0:37:02   \n",
       "4  09/23/2011 Istres, Provence-Alpes-Côte d'Azur,...      2.26     0:22:14   \n",
       "\n",
       "   average_heart_rate    calories  average_temperature  \n",
       "0                 NaN  371.595459                  NaN  \n",
       "1                 NaN  259.392212                  NaN  \n",
       "2                 NaN  373.191833                  NaN  \n",
       "3                 NaN  693.651062                  NaN  \n",
       "4                 NaN  379.204193                  NaN  "
      ]
     },
     "execution_count": 14,
     "metadata": {},
     "output_type": "execute_result"
    }
   ],
   "source": [
    "df.head()"
   ]
  },
  {
   "cell_type": "code",
   "execution_count": 16,
   "id": "f199be22",
   "metadata": {},
   "outputs": [
    {
     "data": {
      "text/plain": [
       "1937"
      ]
     },
     "execution_count": 16,
     "metadata": {},
     "output_type": "execute_result"
    }
   ],
   "source": [
    "df.value_counts(dropna=False).sum()"
   ]
  },
  {
   "cell_type": "code",
   "execution_count": null,
   "id": "6a7e19ea",
   "metadata": {},
   "outputs": [],
   "source": []
  },
  {
   "cell_type": "code",
   "execution_count": null,
   "id": "6d8721a7",
   "metadata": {},
   "outputs": [],
   "source": []
  },
  {
   "cell_type": "code",
   "execution_count": null,
   "id": "a6c700da",
   "metadata": {},
   "outputs": [],
   "source": []
  },
  {
   "cell_type": "code",
   "execution_count": null,
   "id": "a94536b4",
   "metadata": {},
   "outputs": [],
   "source": [
    "# save any updates to csv file\n",
    "df.to_csv('strava.csv', index=False)\n"
   ]
  },
  {
   "cell_type": "code",
   "execution_count": null,
   "id": "e5dd230f",
   "metadata": {},
   "outputs": [],
   "source": []
  }
 ],
 "metadata": {
  "kernelspec": {
   "display_name": "Python 3 (ipykernel)",
   "language": "python",
   "name": "python3"
  },
  "language_info": {
   "codemirror_mode": {
    "name": "ipython",
    "version": 3
   },
   "file_extension": ".py",
   "mimetype": "text/x-python",
   "name": "python",
   "nbconvert_exporter": "python",
   "pygments_lexer": "ipython3",
   "version": "3.9.12"
  }
 },
 "nbformat": 4,
 "nbformat_minor": 5
}
