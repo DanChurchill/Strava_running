{
 "cells": [
  {
   "cell_type": "code",
   "execution_count": 2,
   "id": "2acfbf01",
   "metadata": {},
   "outputs": [],
   "source": [
    "import matplotlib.pyplot as plt\n",
    "import numpy as np\n",
    "import pandas as pd\n",
    "import seaborn as sns\n",
    "import datetime\n",
    "from scipy import stats\n",
    "import strava_prepare\n"
   ]
  },
  {
   "cell_type": "code",
   "execution_count": 3,
   "id": "53f65059",
   "metadata": {},
   "outputs": [],
   "source": [
    "df = strava_prepare.get_strava_data()"
   ]
  },
  {
   "cell_type": "code",
   "execution_count": null,
   "id": "9014355e",
   "metadata": {},
   "outputs": [],
   "source": [
    "df"
   ]
  },
  {
   "cell_type": "code",
   "execution_count": null,
   "id": "13d7b5d1",
   "metadata": {},
   "outputs": [],
   "source": [
    "df = strava_prepare.typ_clean(df)"
   ]
  },
  {
   "cell_type": "code",
   "execution_count": null,
   "id": "04e2c479",
   "metadata": {},
   "outputs": [],
   "source": []
  },
  {
   "cell_type": "code",
   "execution_count": null,
   "id": "2375a3d7",
   "metadata": {},
   "outputs": [],
   "source": []
  },
  {
   "cell_type": "code",
   "execution_count": 4,
   "id": "905e8637",
   "metadata": {},
   "outputs": [
    {
     "data": {
      "text/plain": [
       "(1937, 8)"
      ]
     },
     "execution_count": 4,
     "metadata": {},
     "output_type": "execute_result"
    }
   ],
   "source": [
    "df.shape"
   ]
  },
  {
   "cell_type": "code",
   "execution_count": null,
   "id": "eb42bc58",
   "metadata": {},
   "outputs": [],
   "source": []
  },
  {
   "cell_type": "code",
   "execution_count": null,
   "id": "7b0ad0e0",
   "metadata": {},
   "outputs": [],
   "source": []
  },
  {
   "cell_type": "code",
   "execution_count": null,
   "id": "a94536b4",
   "metadata": {},
   "outputs": [],
   "source": [
    "df.to_csv('strava.csv', index=False)\n"
   ]
  },
  {
   "cell_type": "code",
   "execution_count": null,
   "id": "e52c236f",
   "metadata": {},
   "outputs": [],
   "source": []
  }
 ],
 "metadata": {
  "kernelspec": {
   "display_name": "Python 3 (ipykernel)",
   "language": "python",
   "name": "python3"
  },
  "language_info": {
   "codemirror_mode": {
    "name": "ipython",
    "version": 3
   },
   "file_extension": ".py",
   "mimetype": "text/x-python",
   "name": "python",
   "nbconvert_exporter": "python",
   "pygments_lexer": "ipython3",
   "version": "3.9.12"
  }
 },
 "nbformat": 4,
 "nbformat_minor": 5
}
